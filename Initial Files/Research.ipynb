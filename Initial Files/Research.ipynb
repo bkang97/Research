{
 "cells": [
  {
   "cell_type": "code",
   "execution_count": null,
   "metadata": {
    "collapsed": true
   },
   "outputs": [
    {
     "ename": "IEXQueryError",
     "evalue": "An error occurred while making the query.",
     "traceback": [
      "\u001b[0;31m---------------------------------------------------------------------------\u001b[0m",
      "\u001b[0;31mIEXQueryError\u001b[0m                             Traceback (most recent call last)",
      "\u001b[0;32m<ipython-input-2-ccbfb50408cb>\u001b[0m in \u001b[0;36m<module>\u001b[0;34m()\u001b[0m\n\u001b[1;32m     76\u001b[0m     \u001b[0;32mreturn\u001b[0m \u001b[0mhome_dir\u001b[0m \u001b[0;34m+\u001b[0m \u001b[0mfile_name\u001b[0m \u001b[0;34m+\u001b[0m \u001b[0;34m\".pkl\"\u001b[0m\u001b[0;34m\u001b[0m\u001b[0m\n\u001b[1;32m     77\u001b[0m \u001b[0;34m\u001b[0m\u001b[0m\n\u001b[0;32m---> 78\u001b[0;31m \u001b[0msymbol_list\u001b[0m \u001b[0;34m=\u001b[0m \u001b[0mgetSymbols\u001b[0m\u001b[0;34m(\u001b[0m\u001b[0mTOKEN\u001b[0m\u001b[0;34m)\u001b[0m\u001b[0;34m\u001b[0m\u001b[0m\n\u001b[0m\u001b[1;32m     79\u001b[0m \u001b[0;34m\u001b[0m\u001b[0m\n\u001b[1;32m     80\u001b[0m \u001b[0mdf\u001b[0m \u001b[0;34m=\u001b[0m \u001b[0mgenerateList\u001b[0m\u001b[0;34m(\u001b[0m\u001b[0msymbol_list\u001b[0m\u001b[0;34m,\u001b[0m\u001b[0mTODAY\u001b[0m\u001b[0;34m,\u001b[0m\u001b[0mTODAY\u001b[0m\u001b[0;34m,\u001b[0m\u001b[0mTOKEN\u001b[0m\u001b[0;34m)\u001b[0m\u001b[0;34m\u001b[0m\u001b[0m\n",
      "\u001b[0;32m<ipython-input-2-ccbfb50408cb>\u001b[0m in \u001b[0;36mgetSymbols\u001b[0;34m(token)\u001b[0m\n\u001b[1;32m     18\u001b[0m \u001b[0;34m\u001b[0m\u001b[0m\n\u001b[1;32m     19\u001b[0m \u001b[0;32mdef\u001b[0m \u001b[0mgetSymbols\u001b[0m\u001b[0;34m(\u001b[0m\u001b[0mtoken\u001b[0m\u001b[0;34m)\u001b[0m\u001b[0;34m:\u001b[0m\u001b[0;34m\u001b[0m\u001b[0m\n\u001b[0;32m---> 20\u001b[0;31m     \u001b[0mlistings\u001b[0m \u001b[0;34m=\u001b[0m \u001b[0mpd\u001b[0m\u001b[0;34m.\u001b[0m\u001b[0mDataFrame\u001b[0m\u001b[0;34m.\u001b[0m\u001b[0mfrom_dict\u001b[0m\u001b[0;34m(\u001b[0m\u001b[0mrefdata\u001b[0m\u001b[0;34m.\u001b[0m\u001b[0mget_symbols\u001b[0m\u001b[0;34m(\u001b[0m\u001b[0mtoken\u001b[0m\u001b[0;34m=\u001b[0m\u001b[0mtoken\u001b[0m\u001b[0;34m,\u001b[0m \u001b[0mformat\u001b[0m\u001b[0;34m=\u001b[0m\u001b[0;34m'pandas'\u001b[0m\u001b[0;34m)\u001b[0m\u001b[0;34m)\u001b[0m\u001b[0;34m\u001b[0m\u001b[0m\n\u001b[0m\u001b[1;32m     21\u001b[0m     symbols = list(listings.loc[(listings['isEnabled']==True) & \n\u001b[1;32m     22\u001b[0m                  (listings['exchange'] == \"NYS\") | (listings['exchange'] == \"NAS\")].symbol)\n",
      "\u001b[0;32m/Users/ben/ResearchTest/venv/lib/python3.7/site-packages/iexfinance/refdata/__init__.py\u001b[0m in \u001b[0;36mget_symbols\u001b[0;34m(**kwargs)\u001b[0m\n\u001b[1;32m     11\u001b[0m     \u001b[0mData\u001b[0m \u001b[0mWeighting\u001b[0m\u001b[0;34m:\u001b[0m\u001b[0;31m \u001b[0m\u001b[0;31m`\u001b[0m\u001b[0;31m`\u001b[0m\u001b[0;36m100\u001b[0m\u001b[0;31m`\u001b[0m\u001b[0;31m`\u001b[0m \u001b[0mper\u001b[0m \u001b[0mcall\u001b[0m\u001b[0;34m\u001b[0m\u001b[0m\n\u001b[1;32m     12\u001b[0m     \"\"\"\n\u001b[0;32m---> 13\u001b[0;31m     \u001b[0;32mreturn\u001b[0m \u001b[0mSymbols\u001b[0m\u001b[0;34m(\u001b[0m\u001b[0;34m**\u001b[0m\u001b[0mkwargs\u001b[0m\u001b[0;34m)\u001b[0m\u001b[0;34m.\u001b[0m\u001b[0mfetch\u001b[0m\u001b[0;34m(\u001b[0m\u001b[0;34m)\u001b[0m\u001b[0;34m\u001b[0m\u001b[0m\n\u001b[0m\u001b[1;32m     14\u001b[0m \u001b[0;34m\u001b[0m\u001b[0m\n\u001b[1;32m     15\u001b[0m \u001b[0;34m\u001b[0m\u001b[0m\n",
      "\u001b[0;32m/Users/ben/ResearchTest/venv/lib/python3.7/site-packages/iexfinance/base.py\u001b[0m in \u001b[0;36mfetch\u001b[0;34m(self, fmt_p, fmt_j)\u001b[0m\n\u001b[1;32m    207\u001b[0m         \"\"\"\n\u001b[1;32m    208\u001b[0m         \u001b[0murl\u001b[0m \u001b[0;34m=\u001b[0m \u001b[0mself\u001b[0m\u001b[0;34m.\u001b[0m\u001b[0m_prepare_query\u001b[0m\u001b[0;34m(\u001b[0m\u001b[0;34m)\u001b[0m\u001b[0;34m\u001b[0m\u001b[0m\n\u001b[0;32m--> 209\u001b[0;31m         \u001b[0mdata\u001b[0m \u001b[0;34m=\u001b[0m \u001b[0mself\u001b[0m\u001b[0;34m.\u001b[0m\u001b[0m_execute_iex_query\u001b[0m\u001b[0;34m(\u001b[0m\u001b[0murl\u001b[0m\u001b[0;34m)\u001b[0m\u001b[0;34m\u001b[0m\u001b[0m\n\u001b[0m\u001b[1;32m    210\u001b[0m         \u001b[0;32mreturn\u001b[0m \u001b[0mself\u001b[0m\u001b[0;34m.\u001b[0m\u001b[0m_output_format\u001b[0m\u001b[0;34m(\u001b[0m\u001b[0mdata\u001b[0m\u001b[0;34m,\u001b[0m \u001b[0mfmt_j\u001b[0m\u001b[0;34m=\u001b[0m\u001b[0mfmt_j\u001b[0m\u001b[0;34m,\u001b[0m \u001b[0mfmt_p\u001b[0m\u001b[0;34m=\u001b[0m\u001b[0mfmt_p\u001b[0m\u001b[0;34m)\u001b[0m\u001b[0;34m\u001b[0m\u001b[0m\n\u001b[1;32m    211\u001b[0m \u001b[0;34m\u001b[0m\u001b[0m\n",
      "\u001b[0;32m/Users/ben/ResearchTest/venv/lib/python3.7/site-packages/iexfinance/base.py\u001b[0m in \u001b[0;36m_execute_iex_query\u001b[0;34m(self, url)\u001b[0m\n\u001b[1;32m    163\u001b[0m                 \u001b[0;32mreturn\u001b[0m \u001b[0mself\u001b[0m\u001b[0;34m.\u001b[0m\u001b[0m_validate_response\u001b[0m\u001b[0;34m(\u001b[0m\u001b[0mresponse\u001b[0m\u001b[0;34m)\u001b[0m\u001b[0;34m\u001b[0m\u001b[0m\n\u001b[1;32m    164\u001b[0m             \u001b[0mtime\u001b[0m\u001b[0;34m.\u001b[0m\u001b[0msleep\u001b[0m\u001b[0;34m(\u001b[0m\u001b[0mself\u001b[0m\u001b[0;34m.\u001b[0m\u001b[0mpause\u001b[0m\u001b[0;34m)\u001b[0m\u001b[0;34m\u001b[0m\u001b[0m\n\u001b[0;32m--> 165\u001b[0;31m         \u001b[0;32mreturn\u001b[0m \u001b[0mself\u001b[0m\u001b[0;34m.\u001b[0m\u001b[0m_handle_error\u001b[0m\u001b[0;34m(\u001b[0m\u001b[0mresponse\u001b[0m\u001b[0;34m)\u001b[0m\u001b[0;34m\u001b[0m\u001b[0m\n\u001b[0m\u001b[1;32m    166\u001b[0m \u001b[0;34m\u001b[0m\u001b[0m\n\u001b[1;32m    167\u001b[0m     \u001b[0;32mdef\u001b[0m \u001b[0m_handle_error\u001b[0m\u001b[0;34m(\u001b[0m\u001b[0mself\u001b[0m\u001b[0;34m,\u001b[0m \u001b[0mresponse\u001b[0m\u001b[0;34m)\u001b[0m\u001b[0;34m:\u001b[0m\u001b[0;34m\u001b[0m\u001b[0m\n",
      "\u001b[0;32m/Users/ben/ResearchTest/venv/lib/python3.7/site-packages/iexfinance/base.py\u001b[0m in \u001b[0;36m_handle_error\u001b[0;34m(self, response)\u001b[0m\n\u001b[1;32m    176\u001b[0m                 \u001b[0;32mraise\u001b[0m \u001b[0mauth_error\u001b[0m\u001b[0;34m(\u001b[0m\u001b[0mauth_msg\u001b[0m\u001b[0;34m)\u001b[0m\u001b[0;34m\u001b[0m\u001b[0m\n\u001b[1;32m    177\u001b[0m             \u001b[0;32melse\u001b[0m\u001b[0;34m:\u001b[0m\u001b[0;34m\u001b[0m\u001b[0m\n\u001b[0;32m--> 178\u001b[0;31m                 raise IEXQueryError(\"The query could not be completed. \"\n\u001b[0m\u001b[1;32m    179\u001b[0m                                     \u001b[0;34m\"There was a client-side error with your \"\u001b[0m\u001b[0;34m\u001b[0m\u001b[0m\n\u001b[1;32m    180\u001b[0m                                     \"request.\")\n",
      "\u001b[0;31mIEXQueryError\u001b[0m: An error occurred while making the query."
     ],
     "output_type": "error"
    }
   ],
   "source": [
    "from datetime import datetime\n",
    "from datetime import timedelta\n",
    "from iexfinance.stocks import get_historical_intraday, Stock\n",
    "from iexfinance import refdata, utils\n",
    "import numpy as np\n",
    "import pandas as pd\n",
    "import time\n",
    "\n",
    "import pylab as pl\n",
    "\n",
    "# stocks = [\"AAPl\",\"GOOG\",\"\"]\n",
    "# NUM_DAYS = 5\n",
    "\n",
    "\n",
    "TOKEN = \"pk_aad994f575a04ea6aad1bdd9128294e8\"\n",
    "TODAY = pd.datetime.today() + timedelta(-1)\n",
    "\n",
    "\n",
    "def getSymbols(token):\n",
    "    listings = pd.DataFrame.from_dict(refdata.get_symbols(token=token, format='pandas'))\n",
    "    symbols = list(listings.loc[(listings['isEnabled']==True) & \n",
    "                 (listings['exchange'] == \"NYS\") | (listings['exchange'] == \"NAS\")].symbol)\n",
    "    return symbols\n",
    "\n",
    "def generateList(stocks,begin_date,end_date,token):\n",
    "    dates = pd.date_range(begin_date, \n",
    "                          end_date).to_list()\n",
    "    fullList = []\n",
    "    for stock in stocks:\n",
    "        print(stock)\n",
    "        templist = []\n",
    "        for date in dates:\n",
    "            try:\n",
    "                templist.append(get_historical_intraday(stock, date,token=token, \n",
    "                                                        output_format='pandas')['close'])\n",
    "            except(KeyError):\n",
    "                pass\n",
    "            except(utils.exceptions.IEXQueryError):\n",
    "                while True:\n",
    "                    try:\n",
    "                        templist.append(get_historical_intraday(stock, date,token=token, \n",
    "                                                        output_format='pandas')['close'])\n",
    "                    except(utils.exceptions.IEXQueryError):\n",
    "                        time.sleep(5)\n",
    "                        continue\n",
    "                    break\n",
    "        fullList.append(templist)\n",
    "    print(fullList)\n",
    "    \n",
    "    for index, dataframes in enumerate(fullList):\n",
    "        try:\n",
    "            fullList[index] = pd.concat(dataframes)\n",
    "        except:\n",
    "            pass\n",
    "    combined_df = pd.concat(fullList,axis=1,keys=stocks)\n",
    "    return combined_df.dropna(axis=1, how='all')\n",
    "\n",
    "def format_df(dataframe):\n",
    "    dataframe = pd.DataFrame.interpolate(dataframe, \n",
    "                                         method='polynomial',order=1)\\\n",
    "        .fillna(method='ffill').fillna(method='bfill')\n",
    "    # dataframe = dataframe / dataframe.iloc[-1]\n",
    "    dataframe = dataframe.pct_change()\n",
    "    return dataframe\n",
    "    \n",
    "def zeroed_df(dataframe):\n",
    "    dataframe = pd.DataFrame.interpolate(dataframe, \n",
    "                                         method='polynomial',order=1).\\\n",
    "        fillna(method='ffill').fillna(method='bfill')\n",
    "    dataframe = dataframe / dataframe.iloc[-1] / np.std(dataframe)\n",
    "    # dataframe = dataframe.pct_change()\n",
    "    return dataframe.apply(np.log)\n",
    "\n",
    "def saveDfTempFile(dataframe,file_name,home_dir=\"\"):\n",
    "    dataframe.to_pickle(home_dir + \"./\" + file_name + \".pkl\")\n",
    "    return home_dir + file_name + \".pkl\"\n",
    "\n",
    "symbol_list = getSymbols(TOKEN)\n",
    "\n",
    "df = generateList(symbol_list,TODAY,TODAY,TOKEN)\n",
    "\n",
    "zeroed = zeroed_df(df)\n",
    "formatted_df = format_df(df)\n",
    "\n",
    "local_p = saveDfTempFile(df,\"Price\")\n",
    "local_p_r = saveDfTempFile(formatted_df,\"Price_Return\")\n",
    "local_p_n = saveDfTempFile(zeroed,\"Price_Normalized\")"
   ]
  },
  {
   "cell_type": "code",
   "execution_count": 11,
   "metadata": {
    "collapsed": true
   },
   "outputs": [
    {
     "ename": "IEXQueryError",
     "evalue": "An error occurred while making the query.",
     "traceback": [
      "\u001b[0;31m---------------------------------------------------------------------------\u001b[0m",
      "\u001b[0;31mIEXQueryError\u001b[0m                             Traceback (most recent call last)",
      "\u001b[0;32m<ipython-input-11-a06f6cbd6c4c>\u001b[0m in \u001b[0;36m<module>\u001b[0;34m()\u001b[0m\n\u001b[0;32m----> 1\u001b[0;31m \u001b[0mtest\u001b[0m \u001b[0;34m=\u001b[0m \u001b[0mStock\u001b[0m\u001b[0;34m(\u001b[0m\u001b[0;34m\"AAPL\"\u001b[0m\u001b[0;34m,\u001b[0m\u001b[0moutput_format\u001b[0m\u001b[0;34m=\u001b[0m\u001b[0;34m'pandas'\u001b[0m\u001b[0;34m,\u001b[0m\u001b[0mtoken\u001b[0m\u001b[0;34m=\u001b[0m\u001b[0mTOKEN\u001b[0m\u001b[0;34m)\u001b[0m\u001b[0;34m.\u001b[0m\u001b[0mget_historical_prices\u001b[0m\u001b[0;34m(\u001b[0m\u001b[0;34m)\u001b[0m\u001b[0;34m\u001b[0m\u001b[0m\n\u001b[0m\u001b[1;32m      2\u001b[0m \u001b[0mtest\u001b[0m\u001b[0;34m.\u001b[0m\u001b[0mhead\u001b[0m\u001b[0;34m\u001b[0m\u001b[0m\n",
      "\u001b[0;32m/Users/ben/ResearchTest/venv/lib/python3.7/site-packages/iexfinance/stocks/base.py\u001b[0m in \u001b[0;36mget_historical_prices\u001b[0;34m(self, **kwargs)\u001b[0m\n\u001b[1;32m    478\u001b[0m                 \u001b[0;32mreturn\u001b[0m \u001b[0mpd\u001b[0m\u001b[0;34m.\u001b[0m\u001b[0mconcat\u001b[0m\u001b[0;34m(\u001b[0m\u001b[0mresult\u001b[0m\u001b[0;34m.\u001b[0m\u001b[0mvalues\u001b[0m\u001b[0;34m(\u001b[0m\u001b[0;34m)\u001b[0m\u001b[0;34m,\u001b[0m \u001b[0mkeys\u001b[0m\u001b[0;34m=\u001b[0m\u001b[0mresult\u001b[0m\u001b[0;34m.\u001b[0m\u001b[0mkeys\u001b[0m\u001b[0;34m(\u001b[0m\u001b[0;34m)\u001b[0m\u001b[0;34m,\u001b[0m \u001b[0maxis\u001b[0m\u001b[0;34m=\u001b[0m\u001b[0;36m1\u001b[0m\u001b[0;34m)\u001b[0m\u001b[0;34m\u001b[0m\u001b[0m\n\u001b[1;32m    479\u001b[0m \u001b[0;34m\u001b[0m\u001b[0m\n\u001b[0;32m--> 480\u001b[0;31m         \u001b[0;32mreturn\u001b[0m \u001b[0mself\u001b[0m\u001b[0;34m.\u001b[0m\u001b[0m_get_endpoint\u001b[0m\u001b[0;34m(\u001b[0m\u001b[0;34m\"chart\"\u001b[0m\u001b[0;34m,\u001b[0m \u001b[0mfmt_p\u001b[0m\u001b[0;34m=\u001b[0m\u001b[0mfmt_p\u001b[0m\u001b[0;34m,\u001b[0m \u001b[0mparams\u001b[0m\u001b[0;34m=\u001b[0m\u001b[0mkwargs\u001b[0m\u001b[0;34m)\u001b[0m\u001b[0;34m\u001b[0m\u001b[0m\n\u001b[0m\u001b[1;32m    481\u001b[0m \u001b[0;34m\u001b[0m\u001b[0m\n\u001b[1;32m    482\u001b[0m     \u001b[0;32mdef\u001b[0m \u001b[0mget_income_statement\u001b[0m\u001b[0;34m(\u001b[0m\u001b[0mself\u001b[0m\u001b[0;34m,\u001b[0m \u001b[0;34m**\u001b[0m\u001b[0mkwargs\u001b[0m\u001b[0;34m)\u001b[0m\u001b[0;34m:\u001b[0m\u001b[0;34m\u001b[0m\u001b[0m\n",
      "\u001b[0;32m/Users/ben/ResearchTest/venv/lib/python3.7/site-packages/iexfinance/stocks/base.py\u001b[0m in \u001b[0;36m_get_endpoint\u001b[0;34m(self, endpoint, params, fmt_p, fmt_j, filter_)\u001b[0m\n\u001b[1;32m    101\u001b[0m         \u001b[0mself\u001b[0m\u001b[0;34m.\u001b[0m\u001b[0mendpoints\u001b[0m \u001b[0;34m=\u001b[0m \u001b[0;34m[\u001b[0m\u001b[0mendpoint\u001b[0m\u001b[0;34m]\u001b[0m\u001b[0;34m\u001b[0m\u001b[0m\n\u001b[1;32m    102\u001b[0m \u001b[0;34m\u001b[0m\u001b[0m\n\u001b[0;32m--> 103\u001b[0;31m         \u001b[0mdata\u001b[0m \u001b[0;34m=\u001b[0m \u001b[0mself\u001b[0m\u001b[0;34m.\u001b[0m\u001b[0mfetch\u001b[0m\u001b[0;34m(\u001b[0m\u001b[0mfmt_j\u001b[0m\u001b[0;34m=\u001b[0m\u001b[0mfmt_j\u001b[0m\u001b[0;34m,\u001b[0m \u001b[0mfmt_p\u001b[0m\u001b[0;34m=\u001b[0m\u001b[0mno_pandas\u001b[0m\u001b[0;34m)\u001b[0m\u001b[0;34m\u001b[0m\u001b[0m\n\u001b[0m\u001b[1;32m    104\u001b[0m         \u001b[0;31m# IEX Cloud returns multiple symbol requests as as a list of dicts\u001b[0m\u001b[0;34m\u001b[0m\u001b[0;34m\u001b[0m\u001b[0m\n\u001b[1;32m    105\u001b[0m         \u001b[0;31m# so convert to dict of dicts\u001b[0m\u001b[0;34m\u001b[0m\u001b[0;34m\u001b[0m\u001b[0m\n",
      "\u001b[0;32m/Users/ben/ResearchTest/venv/lib/python3.7/site-packages/iexfinance/base.py\u001b[0m in \u001b[0;36mfetch\u001b[0;34m(self, fmt_p, fmt_j)\u001b[0m\n\u001b[1;32m    207\u001b[0m         \"\"\"\n\u001b[1;32m    208\u001b[0m         \u001b[0murl\u001b[0m \u001b[0;34m=\u001b[0m \u001b[0mself\u001b[0m\u001b[0;34m.\u001b[0m\u001b[0m_prepare_query\u001b[0m\u001b[0;34m(\u001b[0m\u001b[0;34m)\u001b[0m\u001b[0;34m\u001b[0m\u001b[0m\n\u001b[0;32m--> 209\u001b[0;31m         \u001b[0mdata\u001b[0m \u001b[0;34m=\u001b[0m \u001b[0mself\u001b[0m\u001b[0;34m.\u001b[0m\u001b[0m_execute_iex_query\u001b[0m\u001b[0;34m(\u001b[0m\u001b[0murl\u001b[0m\u001b[0;34m)\u001b[0m\u001b[0;34m\u001b[0m\u001b[0m\n\u001b[0m\u001b[1;32m    210\u001b[0m         \u001b[0;32mreturn\u001b[0m \u001b[0mself\u001b[0m\u001b[0;34m.\u001b[0m\u001b[0m_output_format\u001b[0m\u001b[0;34m(\u001b[0m\u001b[0mdata\u001b[0m\u001b[0;34m,\u001b[0m \u001b[0mfmt_j\u001b[0m\u001b[0;34m=\u001b[0m\u001b[0mfmt_j\u001b[0m\u001b[0;34m,\u001b[0m \u001b[0mfmt_p\u001b[0m\u001b[0;34m=\u001b[0m\u001b[0mfmt_p\u001b[0m\u001b[0;34m)\u001b[0m\u001b[0;34m\u001b[0m\u001b[0m\n\u001b[1;32m    211\u001b[0m \u001b[0;34m\u001b[0m\u001b[0m\n",
      "\u001b[0;32m/Users/ben/ResearchTest/venv/lib/python3.7/site-packages/iexfinance/base.py\u001b[0m in \u001b[0;36m_execute_iex_query\u001b[0;34m(self, url)\u001b[0m\n\u001b[1;32m    163\u001b[0m                 \u001b[0;32mreturn\u001b[0m \u001b[0mself\u001b[0m\u001b[0;34m.\u001b[0m\u001b[0m_validate_response\u001b[0m\u001b[0;34m(\u001b[0m\u001b[0mresponse\u001b[0m\u001b[0;34m)\u001b[0m\u001b[0;34m\u001b[0m\u001b[0m\n\u001b[1;32m    164\u001b[0m             \u001b[0mtime\u001b[0m\u001b[0;34m.\u001b[0m\u001b[0msleep\u001b[0m\u001b[0;34m(\u001b[0m\u001b[0mself\u001b[0m\u001b[0;34m.\u001b[0m\u001b[0mpause\u001b[0m\u001b[0;34m)\u001b[0m\u001b[0;34m\u001b[0m\u001b[0m\n\u001b[0;32m--> 165\u001b[0;31m         \u001b[0;32mreturn\u001b[0m \u001b[0mself\u001b[0m\u001b[0;34m.\u001b[0m\u001b[0m_handle_error\u001b[0m\u001b[0;34m(\u001b[0m\u001b[0mresponse\u001b[0m\u001b[0;34m)\u001b[0m\u001b[0;34m\u001b[0m\u001b[0m\n\u001b[0m\u001b[1;32m    166\u001b[0m \u001b[0;34m\u001b[0m\u001b[0m\n\u001b[1;32m    167\u001b[0m     \u001b[0;32mdef\u001b[0m \u001b[0m_handle_error\u001b[0m\u001b[0;34m(\u001b[0m\u001b[0mself\u001b[0m\u001b[0;34m,\u001b[0m \u001b[0mresponse\u001b[0m\u001b[0;34m)\u001b[0m\u001b[0;34m:\u001b[0m\u001b[0;34m\u001b[0m\u001b[0m\n",
      "\u001b[0;32m/Users/ben/ResearchTest/venv/lib/python3.7/site-packages/iexfinance/base.py\u001b[0m in \u001b[0;36m_handle_error\u001b[0;34m(self, response)\u001b[0m\n\u001b[1;32m    176\u001b[0m                 \u001b[0;32mraise\u001b[0m \u001b[0mauth_error\u001b[0m\u001b[0;34m(\u001b[0m\u001b[0mauth_msg\u001b[0m\u001b[0;34m)\u001b[0m\u001b[0;34m\u001b[0m\u001b[0m\n\u001b[1;32m    177\u001b[0m             \u001b[0;32melse\u001b[0m\u001b[0;34m:\u001b[0m\u001b[0;34m\u001b[0m\u001b[0m\n\u001b[0;32m--> 178\u001b[0;31m                 raise IEXQueryError(\"The query could not be completed. \"\n\u001b[0m\u001b[1;32m    179\u001b[0m                                     \u001b[0;34m\"There was a client-side error with your \"\u001b[0m\u001b[0;34m\u001b[0m\u001b[0m\n\u001b[1;32m    180\u001b[0m                                     \"request.\")\n",
      "\u001b[0;31mIEXQueryError\u001b[0m: An error occurred while making the query."
     ],
     "output_type": "error"
    }
   ],
   "source": [
    "test = Stock(\"AAPL\",output_format='pandas',token=TOKEN).get_historical_prices()\n",
    "test.head"
   ]
  },
  {
   "cell_type": "code",
   "execution_count": 25,
   "metadata": {},
   "outputs": [],
   "source": [
    "from pydrive.auth import GoogleAuth\n",
    "from pydrive.drive import GoogleDrive\n",
    "    \n",
    "# initial creation of root folder Intraday\n",
    "# #Create folder\n",
    "# folder_metadata = {'title' : 'Intraday', 'mimeType' : 'application/vnd.google-apps.folder'}\n",
    "# folder = drive.CreateFile(folder_metadata)\n",
    "# folder.Upload()\n",
    "# \n",
    "# #Get folder info and print to screen\n",
    "# foldertitle = folder['title']\n",
    "# folderid = folder['id']\n",
    "# print('title: %s, id: %s' % (foldertitle, folderid))\n",
    "\n",
    "#Upload new folder to folder\n",
    "ROOT_ID = \"1Tr3q-JKaZ3zC3iKJT9CYp5lqWs6C1PPj\"\n",
    "\n",
    "def initializeG():\n",
    "    gauth = GoogleAuth()\n",
    "    gauth.LocalWebserverAuth()\n",
    "    \n",
    "    drive_client = GoogleDrive(gauth)\n",
    "    return drive_client\n",
    "\n",
    "def createNewDir(parent_id, title, drive_client):\n",
    "    file = drive_client.CreateFile({\"parents\": [{\"kind\": \"drive#fileLink\", \"id\": parent_id}],\n",
    "                             'mimeType' : 'application/vnd.google-apps.folder',\n",
    "                             'title':title})\n",
    "    # file.SetContentFile('testpic.jpg')\n",
    "    file.Upload()\n",
    "    return file['id']\n",
    "\n",
    "# Parent folder, title of file, file object\n",
    "def savefileInDir(parent_id,file_upload,drive_client):    \n",
    "    file = drive_client.CreateFile({\"parents\": [{\"kind\": \"drive#fileLink\", \"id\": parent_id}]})\n",
    "    file.SetContentFile(file_upload)\n",
    "    file.Upload()\n",
    "    return file['id']"
   ]
  },
  {
   "cell_type": "code",
   "execution_count": 32,
   "metadata": {},
   "outputs": [
    {
     "data": {
      "text/plain": [
       "'11ETzlZIpRvSpvM-GxC3ZvsuE2pIUFUU2'"
      ]
     },
     "execution_count": 32,
     "metadata": {},
     "output_type": "execute_result"
    }
   ],
   "source": [
    "# client = initializeG()\n",
    "today_id = createNewDir(ROOT_ID, TODAY.strftime('%Y-%m-%d'), client)\n",
    "\n",
    "savefileInDir(today_id, local_p, client)\n",
    "savefileInDir(today_id, local_p_r, client)\n",
    "savefileInDir(today_id, local_p_n, client)\n",
    "\n"
   ]
  },
  {
   "cell_type": "code",
   "execution_count": null,
   "metadata": {},
   "outputs": [],
   "source": [
    "import numpy as np\n",
    "from scipy.spatial import distance\n",
    "from itertools import combinations\n",
    "\n",
    "from fastdtw import fastdtw\n",
    "\n",
    "pairs = list(combinations(stocks,2))\n",
    "\n",
    "for (stock1, stock2) in pairs:\n",
    "    distance, path = fastdtw(zeroed[stock1][1:], \n",
    "                             formatted_df[stock2][1:], dist=distance.euclidean)\n",
    "    print(distance)\n",
    "    # print(stock1,stock2)"
   ]
  },
  {
   "cell_type": "code",
   "execution_count": 837,
   "metadata": {
    "collapsed": false
   },
   "outputs": [
    {
     "data": {
      "text/plain": [
       "[<matplotlib.lines.Line2D at 0x13af986a0>]"
      ]
     },
     "execution_count": 837,
     "metadata": {},
     "output_type": "execute_result"
    },
    {
     "data": {
      "image/png": "[encoded data removed]",
      "text/plain": [
       "<Figure size 432x288 with 1 Axes>"
      ]
     },
     "metadata": {},
     "output_type": "display_data"
    }
   ],
   "source": [
    "# test = pd.DataFrame.interpolate(test,method='polynomial',order=2)\n",
    "plt.plot((zeroed[\"HEXO\"][1300:2500]/zeroed[\"HEXO\"][1850]).reset_index(drop=True))\n",
    "plt.plot((zeroed[\"ACB\"][1300:2500]/zeroed[\"ACB\"][1800]).reset_index(drop=True))\n",
    "plt.plot((zeroed[\"ACB\"][950:2150]/zeroed[\"ACB\"][1800]).reset_index(drop=True),c=\"red\")\n",
    "#if lagged corelation is steady and autocorrelation is high, then trade\n",
    "# LONG\n",
    "#1) if corr high AND both stocks going down at the moment, CORR effect > LAG effect, DONT BUY\n",
    "#2) if lag is stable (don't trade while lengths is moving or just finished moving) \n",
    "#   and is expected to last longer than lag time, then continue\n",
    "#3) Keep longing/shorting while lag is stable and lagged correlation is high\n",
    "#4) STOP trading immediately when lag becomes unstable/lag correlation stops/regular correlations shoots up/there is a price shock"
   ]
  },
  {
   "cell_type": "code",
   "execution_count": null,
   "metadata": {},
   "outputs": [
    {
     "data": {
      "text/plain": [
       "<matplotlib.patches.Polygon at 0x13b2f3eb8>"
      ]
     },
     "execution_count": 843,
     "metadata": {},
     "output_type": "execute_result"
    },
    {
     "data": {
      "image/png": "[encoded data removed]",
      "text/plain": [
       "<Figure size 432x288 with 1 Axes>"
      ]
     },
     "metadata": {},
     "output_type": "display_data"
    }
   ],
   "source": [
    "import matplotlib.pyplot as plt\n",
    "\n",
    "# lengths = [a-b for a,b in path]\n",
    "full = pd.DataFrame(path)\n",
    "full.drop_duplicates(subset=1,keep='last',inplace=True)\n",
    "lengths = list(full[0]-full[1])\n",
    "\n",
    "plt.plot(lengths[950:2150])\n",
    "plt.plot(pd.Series(lengths[950:2150]).rolling(window=50).mean().values)\n",
    "plt.plot(pd.Series(lengths[950:2150]).rolling(window=100).mean().values)\n",
    "plt.axhspan(-350*0.9, -350*1.1, color='red', alpha=0.2)\n",
    "# check if value stays within range longer than the lag value"
   ]
  },
  {
   "cell_type": "code",
   "execution_count": 830,
   "metadata": {
    "collapsed": true
   },
   "outputs": [
    {
     "data": {
      "text/plain": [
       "-2.0"
      ]
     },
     "execution_count": 830,
     "metadata": {},
     "output_type": "execute_result"
    }
   ],
   "source": [
    "np.median(lengths)"
   ]
  },
  {
   "cell_type": "code",
   "execution_count": 819,
   "metadata": {},
   "outputs": [
    {
     "data": {
      "text/plain": [
       "[('HEXO', 'ACB')]"
      ]
     },
     "execution_count": 819,
     "metadata": {},
     "output_type": "execute_result"
    }
   ],
   "source": [
    "pairs"
   ]
  },
  {
   "cell_type": "code",
   "execution_count": null,
   "metadata": {},
   "outputs": [],
   "source": [
    "import pandas as pd\n",
    "\n",
    "token = \"pk_d5ea01d9598a456098e2e7a7f72f155c\"\n",
    "\n",
    "from iexfinance import refdata\n",
    "\n",
    "def getSymbols():\n",
    "    listings = pd.DataFrame.from_dict(refdata.get_symbols(token=token, format='pandas'))\n",
    "    symbols = list(listings.loc[(listings['isEnabled']==True) & \n",
    "                 (listings['exchange'] == \"NYS\") | (listings['exchange'] == \"NAS\")].symbol)\n",
    "    return symbols\n"
   ]
  },
  {
   "cell_type": "code",
   "execution_count": 54,
   "metadata": {},
   "outputs": [],
   "source": [
    "listings = pd.DataFrame.from_dict(refdata.get_symbols(token=token, format='pandas'))\n",
    "symbols = list(listings.loc[(listings['isEnabled']==True) & \n",
    "             (listings['exchange'] == \"NYS\") | (listings['exchange'] == \"NAS\")].symbol)\n",
    "symbols = [a for a in symbols if a.isalpha()]"
   ]
  },
  {
   "cell_type": "code",
   "execution_count": 8,
   "metadata": {},
   "outputs": [
    {
     "name": "stdout",
     "output_type": "stream",
     "text": [
      "Your browser has been opened to visit:\n\n    https://accounts.google.com/o/oauth2/auth?client_id=485513866766-tfj8ae7vdjs9ptfpl332s93a4hhrl7oc.apps.googleusercontent.com&redirect_uri=http%3A%2F%2Flocalhost%3A8080%2F&scope=https%3A%2F%2Fwww.googleapis.com%2Fauth%2Fdrive&access_type=offline&response_type=code\n\n"
     ]
    },
    {
     "name": "stdout",
     "output_type": "stream",
     "text": [
      "Authentication successful.\n"
     ]
    }
   ],
   "source": [
    ""
   ]
  },
  {
   "cell_type": "code",
   "execution_count": 10,
   "metadata": {
    "collapsed": true
   },
   "outputs": [
    {
     "name": "stdout",
     "output_type": "stream",
     "text": [
      "title: Investments - Stock Pitch, id: 1ZkJMfvoWKbgbRI8jQuhl8k-xinEc6XNHcBCaXooDa_w\ntitle: Investments - Stock Pitch - Column chart 4, id: 15NeXWkkZ7lm9y2ey-E8g0VAPsBA9Q-sj4gVtdTkmHh8\ntitle: Investments - Stock Pitch - Pie chart 2, id: 1vF7IEOX8ztzV-MuILB6RrH_28NaWP3HZiJ4laJPa2bM\ntitle: Investments - Stock Pitch - Column chart 1, id: 17B5q5vgVlU1nLK5G8i7f7m2oD-vcGNt3M1K0Bk9g3Io\ntitle: Investments - Stock Pitch - Column chart 3, id: 11ziiSWm7xWgGXOqO95rbjnhWJpSo2zERkzc_gEbwCYI\ntitle: Untitled document, id: 1pmUesPNnZZl3h3oIbk6gegbJyTZ6p8wVsh_KooRDDAE\ntitle: Benjamin Kang Resume 6-11-19.pdf, id: 1YJdn7iea01nVpdmg8WjQHy58sIv6_3lH\ntitle: course list for graduation.docx, id: 1YAaNf-C32LDn2NIo0msyjuHDoyxbgA6e\ntitle: Major Requirements.xlsx, id: 1NXgN-bJbSYTZ7Z-nxNZB8n-tO0kkozu0\ntitle: ~$Major Requirements.xlsx, id: 1de1JfoRstrk0LqtCRmZTsbKMibALg-Gk\ntitle: course list for graduation.docx, id: 1BZcsoaIxkpHm-sjNWobjbht6aVKmznU5\ntitle: ~$urse list for graduation.docx, id: 16esYbJwULwR6aLIab7qz0cpYeaJb4ayB\ntitle: Trading Research, id: 16W9C-8flIdzNw6SBuZBzErsuIqoIyZJH\ntitle: Freshman 17-18, id: 1YVvoBG1VBWs5q9jK0RSzDJMs7Or0RcSQ\ntitle: Sophomore 18-19, id: 13YtdPEH5LmCEW6Nc4AaboZv0jCpyx-uX\ntitle: Python Projects, id: 1UiX10ud0aiOPN3SuzIRxGvEFRABqdWhc\ntitle: Resume:Porfolio, id: 1Ia87VBLR47jxyUNp4-cPNsKNkaKVJK5K\ntitle: LSAT practice, id: 1zQqx9lqmEMlT8HzxdPWGlyE35RT5bvrT\n"
     ]
    }
   ],
   "source": [
    "file_list = drive.ListFile({'q': \"'root' in parents and trashed=false\"}).GetList()\n",
    "for file1 in file_list:\n",
    "  print('title: %s, id: %s' % (file1['title'], file1['id']))"
   ]
  },
  {
   "cell_type": "code",
   "execution_count": 4,
   "metadata": {},
   "outputs": [],
   "source": [
    ""
   ]
  },
  {
   "cell_type": "code",
   "execution_count": 16,
   "metadata": {},
   "outputs": [
    {
     "data": {
      "text/plain": [
       "'14ctOFqbIpCSLfU2plrnnnjm7FY7auMvX'"
      ]
     },
     "execution_count": 16,
     "metadata": {},
     "output_type": "execute_result"
    }
   ],
   "source": [
    "createNewDir(\"newFolder\")"
   ]
  }
 ],
 "metadata": {
  "kernelspec": {
   "display_name": "Python 2",
   "language": "python",
   "name": "python2"
  },
  "language_info": {
   "codemirror_mode": {
    "name": "ipython",
    "version": 2
   },
   "file_extension": ".py",
   "mimetype": "text/x-python",
   "name": "python",
   "nbconvert_exporter": "python",
   "pygments_lexer": "ipython2",
   "version": "2.7.6"
  }
 },
 "nbformat": 4,
 "nbformat_minor": 0
}
